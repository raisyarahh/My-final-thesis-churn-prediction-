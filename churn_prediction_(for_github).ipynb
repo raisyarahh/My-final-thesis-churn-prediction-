{
  "nbformat": 4,
  "nbformat_minor": 0,
  "metadata": {
    "kernelspec": {
      "display_name": "Python 3",
      "language": "python",
      "name": "python3"
    },
    "language_info": {
      "codemirror_mode": {
        "name": "ipython",
        "version": 3
      },
      "file_extension": ".py",
      "mimetype": "text/x-python",
      "name": "python",
      "nbconvert_exporter": "python",
      "pygments_lexer": "ipython3",
      "version": "3.7.4"
    },
    "colab": {
      "name": "churn prediction (for github)",
      "provenance": [],
      "collapsed_sections": []
    }
  },
  "cells": [
    {
      "cell_type": "code",
      "metadata": {
        "id": "94apL3MSz6CY"
      },
      "source": [
        "#import library\n",
        "import numpy as np\n",
        "import pandas as pd\n",
        "import matplotlib.pyplot as plt\n",
        "import matplotlib.pyplot as plt; plt.rcdefaults()\n",
        "import seaborn as sns"
      ],
      "execution_count": null,
      "outputs": []
    },
    {
      "cell_type": "markdown",
      "metadata": {
        "id": "4l9IjpkGz6Co"
      },
      "source": [
        "Loading Data"
      ]
    },
    {
      "cell_type": "code",
      "metadata": {
        "colab": {
          "resources": {
            "http://localhost:8080/nbextensions/google.colab/files.js": {
              "data": "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",
              "ok": true,
              "headers": [
                [
                  "content-type",
                  "application/javascript"
                ]
              ],
              "status": 200,
              "status_text": ""
            }
          },
          "base_uri": "https://localhost:8080/",
          "height": 72
        },
        "id": "m761pxGd0CXP",
        "outputId": "ecd6e14f-a752-493f-b0a4-6bf1a041d5cf"
      },
      "source": [
        "#loading data\n",
        "from google.colab import files\n",
        "data_to_load = files.upload()"
      ],
      "execution_count": null,
      "outputs": [
        {
          "output_type": "display_data",
          "data": {
            "text/html": [
              "\n",
              "     <input type=\"file\" id=\"files-5fa7ef86-1384-49c2-8481-7e0409ae944c\" name=\"files[]\" multiple disabled\n",
              "        style=\"border:none\" />\n",
              "     <output id=\"result-5fa7ef86-1384-49c2-8481-7e0409ae944c\">\n",
              "      Upload widget is only available when the cell has been executed in the\n",
              "      current browser session. Please rerun this cell to enable.\n",
              "      </output>\n",
              "      <script src=\"/nbextensions/google.colab/files.js\"></script> "
            ],
            "text/plain": [
              "<IPython.core.display.HTML object>"
            ]
          },
          "metadata": {
            "tags": []
          }
        },
        {
          "output_type": "stream",
          "text": [
            "Saving datalengkapbaru1.csv to datalengkapbaru1.csv\n"
          ],
          "name": "stdout"
        }
      ]
    },
    {
      "cell_type": "code",
      "metadata": {
        "id": "7NrgHNlP0Lp7"
      },
      "source": [
        "import io\n",
        "dataset = pd.read_csv(io.BytesIO(data_to_load['datachurn.csv']))"
      ],
      "execution_count": null,
      "outputs": []
    },
    {
      "cell_type": "markdown",
      "metadata": {
        "id": "BPsrDDHgz6Cr"
      },
      "source": [
        "Data Exploration"
      ]
    },
    {
      "cell_type": "code",
      "metadata": {
        "id": "DNPOGuywz6Cs"
      },
      "source": [
        "#data exploration\n",
        "dataset.info()"
      ],
      "execution_count": null,
      "outputs": []
    },
    {
      "cell_type": "code",
      "metadata": {
        "id": "vl2Tqwt4z6Cu"
      },
      "source": [
        "dataset.head()"
      ],
      "execution_count": null,
      "outputs": []
    },
    {
      "cell_type": "code",
      "metadata": {
        "id": "SqQftVNtVUsw"
      },
      "source": [
        "dataset.describe()"
      ],
      "execution_count": null,
      "outputs": []
    },
    {
      "cell_type": "markdown",
      "metadata": {
        "id": "brS32w7AUVea"
      },
      "source": [
        "Pembersihan Data"
      ]
    },
    {
      "cell_type": "code",
      "metadata": {
        "id": "EJKh7qOuz6Cw"
      },
      "source": [
        "dataset.isnull().sum()"
      ],
      "execution_count": null,
      "outputs": []
    },
    {
      "cell_type": "code",
      "metadata": {
        "id": "O08U4r_BYzCJ"
      },
      "source": [
        "#data cleaning\n",
        "dataset = dataset.drop(dataset.columns[[0, 3, 4, 5, 6]], axis=1)"
      ],
      "execution_count": null,
      "outputs": []
    },
    {
      "cell_type": "code",
      "metadata": {
        "colab": {
          "base_uri": "https://localhost:8080/"
        },
        "id": "yLYbgfUwebNo",
        "outputId": "03b45784-69fc-4a1c-af45-226617df59e9"
      },
      "source": [
        "#checking the median value for each class\n",
        "(dataset['responsive_to']).where(dataset['churn_or_not']=='churn').median()"
      ],
      "execution_count": null,
      "outputs": [
        {
          "output_type": "execute_result",
          "data": {
            "text/plain": [
              "3.0"
            ]
          },
          "metadata": {
            "tags": []
          },
          "execution_count": 48
        }
      ]
    },
    {
      "cell_type": "code",
      "metadata": {
        "id": "BTWxc8H7FFZQ"
      },
      "source": [
        "dataset = dataset.drop(dataset[dataset.reliability_to > 5].index)\n",
        "dataset = dataset.drop(dataset[dataset.reliability_to == 0].index)\n",
        "\n",
        "dataset = dataset.drop(dataset[dataset.responsive_to > 5].index)\n",
        "dataset = dataset.drop(dataset[dataset.responsive_to == 0].index)\n",
        "\n",
        "dataset = dataset.drop(dataset[dataset.emphaty_to > 5].index)\n",
        "dataset = dataset.drop(dataset[dataset.emphaty_to == 0].index)\n",
        "\n",
        "dataset = dataset.drop(dataset[dataset.assurance_to > 5].index)\n",
        "dataset = dataset.drop(dataset[dataset.assurance_to == 0].index)\n",
        "\n",
        "dataset['tangibles_to'] = dataset['tangibles_to'].replace(['#DIV/0!'],0)\n",
        "dataset.tangibles_to = pd.to_numeric(dataset.tangibles_to)\n",
        "dataset = dataset.drop(dataset[dataset.tangibles_to > 5].index)\n",
        "dataset = dataset.drop(dataset[dataset.tangibles_to == 0].index)"
      ],
      "execution_count": null,
      "outputs": []
    },
    {
      "cell_type": "code",
      "metadata": {
        "id": "ozFNQqUHFLaF"
      },
      "source": [
        "dataset[['reliability_to','emphaty_to','assurance_to', 'responsive_to', 'tangibles_to']] = dataset[['reliability_to','emphaty_to','assurance_to', 'responsive_to', 'tangibles_to']].fillna((dataset[['reliability_to','emphaty_to','assurance_to', 'responsive_to', 'tangibles_to']].median()))"
      ],
      "execution_count": null,
      "outputs": []
    },
    {
      "cell_type": "code",
      "metadata": {
        "id": "HPv-Q7VmXlyG"
      },
      "source": [
        "dataset['duration'] = dataset['duration'].replace(['#VALUE!'],0)\n",
        "dataset['duration'] = dataset['duration'].replace(0, np.nan)\n",
        "dataset.duration = pd.to_numeric(dataset.duration)"
      ],
      "execution_count": null,
      "outputs": []
    },
    {
      "cell_type": "code",
      "metadata": {
        "id": "m0kra9ZWfeCV"
      },
      "source": [
        "dataset['final_score'] = dataset['final_score'].replace(0, np.nan)"
      ],
      "execution_count": null,
      "outputs": []
    },
    {
      "cell_type": "code",
      "metadata": {
        "id": "9UqJ11Dxz6C0"
      },
      "source": [
        "dataset.dropna(subset=['churn_or_not','province', 'final_score','duration'], inplace = True)"
      ],
      "execution_count": null,
      "outputs": []
    },
    {
      "cell_type": "code",
      "metadata": {
        "id": "YA3JlqBKz6C1"
      },
      "source": [
        "dataset.update(dataset[['finished_to','seeing_result','seeing_solution']].fillna(0))"
      ],
      "execution_count": null,
      "outputs": []
    },
    {
      "cell_type": "code",
      "metadata": {
        "id": "6YwXtDZGYQxS"
      },
      "source": [
        "dataset = dataset.drop(dataset[dataset.duration > 3.45].index)\n",
        "dataset = dataset.drop(dataset[dataset.duration == 0].index)"
      ],
      "execution_count": null,
      "outputs": []
    },
    {
      "cell_type": "code",
      "metadata": {
        "id": "vH_BaPao5Lr8"
      },
      "source": [
        "# Select duplicate rows except first occurrence based on all columns\n",
        "duplicateRowsDF = dataset[dataset.duplicated()]\n",
        "print(\"Duplicate Rows except first occurrence based on all columns are :\")\n",
        "print(duplicateRowsDF)"
      ],
      "execution_count": null,
      "outputs": []
    },
    {
      "cell_type": "code",
      "metadata": {
        "id": "juoCrcAaoZhe"
      },
      "source": [
        "dataset.info()"
      ],
      "execution_count": null,
      "outputs": []
    },
    {
      "cell_type": "code",
      "metadata": {
        "id": "5JX5yEP0DFnc"
      },
      "source": [
        "def label_function(val):\n",
        "    return f'{val / 100 * len(dataset):.0f}\\n{val:.0f}%'\n",
        "\n",
        "dataset['finished_to'].value_counts().plot(kind='pie', autopct=label_function, colors=['lime', 'tomato'])"
      ],
      "execution_count": null,
      "outputs": []
    },
    {
      "cell_type": "code",
      "metadata": {
        "id": "Y2MUzXdKEQQI"
      },
      "source": [
        "dataset['seeing_result'].value_counts().plot(kind='pie', autopct=label_function, colors=['lime', 'tomato'])"
      ],
      "execution_count": null,
      "outputs": []
    },
    {
      "cell_type": "code",
      "metadata": {
        "id": "apIAZKWAEaJ_"
      },
      "source": [
        "dataset['seeing_solution'].value_counts().plot(kind='pie', autopct=label_function, colors=['lime', 'tomato'])"
      ],
      "execution_count": null,
      "outputs": []
    },
    {
      "cell_type": "code",
      "metadata": {
        "id": "L4L-1wGsEuo8"
      },
      "source": [
        "dataset['fill_feedback'].value_counts().plot(kind='pie', autopct=label_function, colors=['lime', 'tomato'])"
      ],
      "execution_count": null,
      "outputs": []
    },
    {
      "cell_type": "code",
      "metadata": {
        "id": "u3INYLGVz6C8"
      },
      "source": [
        "#visualisasi proposi data churn dan tidak churn\n",
        "print(dataset.churn_or_not.value_counts())\n",
        "ax = dataset['churn_or_not'].value_counts().plot(kind='bar').set_title('churn or no')\n",
        "plt.ylabel('Jumlah pelanggan')"
      ],
      "execution_count": null,
      "outputs": []
    },
    {
      "cell_type": "code",
      "metadata": {
        "colab": {
          "base_uri": "https://localhost:8080/",
          "height": 204
        },
        "id": "wn97Gk9PdWZz",
        "outputId": "b53dc5e9-9687-495d-f8f6-dc690378c689"
      },
      "source": [
        "dataset.head()"
      ],
      "execution_count": null,
      "outputs": [
        {
          "output_type": "execute_result",
          "data": {
            "text/html": [
              "<div>\n",
              "<style scoped>\n",
              "    .dataframe tbody tr th:only-of-type {\n",
              "        vertical-align: middle;\n",
              "    }\n",
              "\n",
              "    .dataframe tbody tr th {\n",
              "        vertical-align: top;\n",
              "    }\n",
              "\n",
              "    .dataframe thead th {\n",
              "        text-align: right;\n",
              "    }\n",
              "</style>\n",
              "<table border=\"1\" class=\"dataframe\">\n",
              "  <thead>\n",
              "    <tr style=\"text-align: right;\">\n",
              "      <th></th>\n",
              "      <th>id_user</th>\n",
              "      <th>province</th>\n",
              "      <th>duration</th>\n",
              "      <th>finished_to</th>\n",
              "      <th>seeing_result</th>\n",
              "      <th>seeing_solution</th>\n",
              "      <th>fill_feedback</th>\n",
              "      <th>reliability_to</th>\n",
              "      <th>responsive_to</th>\n",
              "      <th>tangibles_to</th>\n",
              "      <th>emphaty_to</th>\n",
              "      <th>assurance_to</th>\n",
              "      <th>final_score</th>\n",
              "      <th>churn_or_not</th>\n",
              "    </tr>\n",
              "  </thead>\n",
              "  <tbody>\n",
              "    <tr>\n",
              "      <th>357</th>\n",
              "      <td>1024636.0</td>\n",
              "      <td>RIAU</td>\n",
              "      <td>0.000034</td>\n",
              "      <td>0.0</td>\n",
              "      <td>0.0</td>\n",
              "      <td>0.0</td>\n",
              "      <td>0</td>\n",
              "      <td>4.0</td>\n",
              "      <td>3.0</td>\n",
              "      <td>4.0</td>\n",
              "      <td>4.0</td>\n",
              "      <td>5.0</td>\n",
              "      <td>256.20</td>\n",
              "      <td>churn</td>\n",
              "    </tr>\n",
              "    <tr>\n",
              "      <th>358</th>\n",
              "      <td>1693605.0</td>\n",
              "      <td>JAWA TIMUR</td>\n",
              "      <td>0.000034</td>\n",
              "      <td>0.0</td>\n",
              "      <td>0.0</td>\n",
              "      <td>0.0</td>\n",
              "      <td>0</td>\n",
              "      <td>4.0</td>\n",
              "      <td>3.0</td>\n",
              "      <td>4.0</td>\n",
              "      <td>4.0</td>\n",
              "      <td>5.0</td>\n",
              "      <td>44.90</td>\n",
              "      <td>churn</td>\n",
              "    </tr>\n",
              "    <tr>\n",
              "      <th>359</th>\n",
              "      <td>377828.0</td>\n",
              "      <td>JAWA TENGAH</td>\n",
              "      <td>0.000034</td>\n",
              "      <td>0.0</td>\n",
              "      <td>0.0</td>\n",
              "      <td>0.0</td>\n",
              "      <td>0</td>\n",
              "      <td>4.0</td>\n",
              "      <td>3.0</td>\n",
              "      <td>4.0</td>\n",
              "      <td>4.0</td>\n",
              "      <td>5.0</td>\n",
              "      <td>305.97</td>\n",
              "      <td>churn</td>\n",
              "    </tr>\n",
              "    <tr>\n",
              "      <th>360</th>\n",
              "      <td>1712582.0</td>\n",
              "      <td>SULAWESI SELATAN</td>\n",
              "      <td>0.000036</td>\n",
              "      <td>0.0</td>\n",
              "      <td>0.0</td>\n",
              "      <td>0.0</td>\n",
              "      <td>0</td>\n",
              "      <td>4.0</td>\n",
              "      <td>3.0</td>\n",
              "      <td>4.0</td>\n",
              "      <td>4.0</td>\n",
              "      <td>5.0</td>\n",
              "      <td>403.12</td>\n",
              "      <td>churn</td>\n",
              "    </tr>\n",
              "    <tr>\n",
              "      <th>361</th>\n",
              "      <td>1696709.0</td>\n",
              "      <td>JAWA BARAT</td>\n",
              "      <td>0.000036</td>\n",
              "      <td>0.0</td>\n",
              "      <td>0.0</td>\n",
              "      <td>0.0</td>\n",
              "      <td>0</td>\n",
              "      <td>4.0</td>\n",
              "      <td>3.0</td>\n",
              "      <td>4.0</td>\n",
              "      <td>4.0</td>\n",
              "      <td>5.0</td>\n",
              "      <td>365.17</td>\n",
              "      <td>churn</td>\n",
              "    </tr>\n",
              "  </tbody>\n",
              "</table>\n",
              "</div>"
            ],
            "text/plain": [
              "       id_user          province  ...  final_score  churn_or_not\n",
              "357  1024636.0              RIAU  ...       256.20         churn\n",
              "358  1693605.0        JAWA TIMUR  ...        44.90         churn\n",
              "359   377828.0       JAWA TENGAH  ...       305.97         churn\n",
              "360  1712582.0  SULAWESI SELATAN  ...       403.12         churn\n",
              "361  1696709.0        JAWA BARAT  ...       365.17         churn\n",
              "\n",
              "[5 rows x 14 columns]"
            ]
          },
          "metadata": {
            "tags": []
          },
          "execution_count": 16
        }
      ]
    },
    {
      "cell_type": "code",
      "metadata": {
        "id": "Nv4jlw0Iz6Cv"
      },
      "source": [
        "dataset.describe()"
      ],
      "execution_count": null,
      "outputs": []
    },
    {
      "cell_type": "code",
      "metadata": {
        "id": "z37CGJtDSl5w"
      },
      "source": [
        "features = ['duration',\n",
        "            'province_encoded',\n",
        "            'finished_to',\n",
        "            'seeing_result',\n",
        "            'seeing_solution',\n",
        "            'fill_feedback',\n",
        "            'reliability_to',\n",
        "            'responsive_to',\n",
        "            'tangibles_to',\n",
        "            'emphaty_to',\n",
        "            'assurance_to',\n",
        "            'final_score',\n",
        "            'churn_or_not',\n",
        "            ]"
      ],
      "execution_count": null,
      "outputs": []
    },
    {
      "cell_type": "code",
      "metadata": {
        "id": "iDP0ZuNlz6C3"
      },
      "source": [
        "#visualisasi korelasi antar kolom numeric\n",
        "num_df = dataset[features]\n",
        "plt.subplots(figsize=(12,12))\n",
        "sns.heatmap(num_df.corr(), annot=True, fmt='.1g', vmin=-1, vmax=1, mask=np.triu(num_df.corr()), cmap='coolwarm')\n",
        "plt.show()"
      ],
      "execution_count": null,
      "outputs": []
    },
    {
      "cell_type": "code",
      "metadata": {
        "id": "fJYX7I_Iz6C9"
      },
      "source": [
        "#visualisasi proposi churn dan tidak churn terhadap kolom bertipe kategorikal\n",
        "categorical_features = [\n",
        "    'finished_to',\n",
        "    'seeing_result',\n",
        "    'seeing_solution',\n",
        "    'fill_feedback',\n",
        "    'reliability_to',\n",
        "    'responsive_to',\n",
        "    'tangibles_to',\n",
        "    'emphaty_to',\n",
        "    'assurance_to'\n",
        "]\n",
        "\n",
        "target = 'churn_or_not'"
      ],
      "execution_count": null,
      "outputs": []
    },
    {
      "cell_type": "code",
      "metadata": {
        "id": "LRH5vbNwHNG9"
      },
      "source": [
        "ROWS, COLS = 3, 3\n",
        "fig, ax = plt.subplots(ROWS, COLS, figsize=(18, 20) )\n",
        "row, col = 0, 0\n",
        "for i, categorical_feature in enumerate(categorical_features):\n",
        " if col == COLS - 1: row += 1\n",
        " col = i % COLS\n",
        " dataset[dataset.churn_or_not=='nochurn'][categorical_feature].value_counts().plot(kind='bar', width=.5, ax=ax[row, col], color='blue', alpha=0.5).set_title(categorical_feature)\n",
        " dataset[dataset.churn_or_not=='churn'][categorical_feature].value_counts().plot(kind='bar', width=.3, ax=ax[row, col], color='orange', alpha=0.7).set_title(categorical_feature)\n",
        " plt.legend(['No Churn', 'Churn'])\n",
        " fig.subplots_adjust(hspace=0.7)"
      ],
      "execution_count": null,
      "outputs": []
    },
    {
      "cell_type": "code",
      "metadata": {
        "id": "B_V9oUIpz6DA",
        "colab": {
          "base_uri": "https://localhost:8080/",
          "height": 312
        },
        "outputId": "1272bc92-a794-4297-daa6-a85b2ae1dd19"
      },
      "source": [
        "#visualisasi feature final_score terhadap proposi pelanggan yang churn maupun tidak\n",
        "feature1 = ['final_score']\n",
        "\n",
        "fig, ax = plt.subplots(figsize=(14, 4))\n",
        "dataset[dataset.churn_or_not=='nochurn'][feature1].hist(bins=30, color=\"blue\", alpha=0.5, ax=ax)\n",
        "dataset[dataset.churn_or_not=='churn'][feature1].hist(bins=30, color=\"red\", alpha=0.5, ax=ax)\n",
        "plt.legend(['No Churn', 'Churn'])\n",
        "plt.xlabel(\"Final score\")\n",
        "plt.ylabel(\"Jumlah pengguna\")"
      ],
      "execution_count": null,
      "outputs": [
        {
          "output_type": "execute_result",
          "data": {
            "text/plain": [
              "Text(0, 0.5, 'Jumlah pengguna')"
            ]
          },
          "metadata": {
            "tags": []
          },
          "execution_count": 14
        },
        {
          "output_type": "display_data",
          "data": {
            "image/png": "[encoded data removed]",
            "text/plain": [
              "<Figure size 1008x288 with 1 Axes>"
            ]
          },
          "metadata": {
            "tags": [],
            "needs_background": "light"
          }
        }
      ]
    },
    {
      "cell_type": "code",
      "metadata": {
        "id": "t2fPZMarNubB",
        "colab": {
          "base_uri": "https://localhost:8080/",
          "height": 312
        },
        "outputId": "acba921d-2d57-40a8-fffd-38b973e27957"
      },
      "source": [
        "#visualisasi feature duration terhadap proposi pelanggan yang churn maupun tidak\n",
        "feature2 = ['duration']\n",
        "\n",
        "fig, ax = plt.subplots(figsize=(14, 4))\n",
        "dataset[dataset.churn_or_not=='nochurn'][feature2].hist(bins=30, color=\"blue\", alpha=0.5, ax=ax)\n",
        "dataset[dataset.churn_or_not=='churn'][feature2].hist(bins=30, color=\"red\", alpha=0.5, ax=ax)\n",
        "plt.legend(['No Churn', 'Churn'])\n",
        "plt.xlabel(\"Durasi\")\n",
        "plt.ylabel(\"Jumlah pengguna\")"
      ],
      "execution_count": null,
      "outputs": [
        {
          "output_type": "execute_result",
          "data": {
            "text/plain": [
              "Text(0, 0.5, 'Jumlah pengguna')"
            ]
          },
          "metadata": {
            "tags": []
          },
          "execution_count": 15
        },
        {
          "output_type": "display_data",
          "data": {
            "image/png": "[encoded data removed]",
            "text/plain": [
              "<Figure size 1008x288 with 1 Axes>"
            ]
          },
          "metadata": {
            "tags": [],
            "needs_background": "light"
          }
        }
      ]
    },
    {
      "cell_type": "markdown",
      "metadata": {
        "id": "nfItNA6UJg2j"
      },
      "source": [
        "save dan load data untuk di undersampler manual (biar keliatan perbedaan visualisasinya)"
      ]
    },
    {
      "cell_type": "code",
      "metadata": {
        "id": "81tEDxc9mJp_"
      },
      "source": [
        "#save dan load data untuk di undersampler manual (biar keliatan perbedaan visualisasinya)\n",
        "dataset.to_csv(\"forundersampling.csv\")"
      ],
      "execution_count": null,
      "outputs": []
    },
    {
      "cell_type": "code",
      "metadata": {
        "colab": {
          "resources": {
            "http://localhost:8080/nbextensions/google.colab/files.js": {
              "data": "Ly8gQ29weXJpZ2h0IDIwMTcgR29vZ2xlIExMQwovLwovLyBMaWNlbnNlZCB1bmRlciB0aGUgQXBhY2hlIExpY2Vuc2UsIFZlcnNpb24gMi4wICh0aGUgIkxpY2Vuc2UiKTsKLy8geW91IG1heSBub3QgdXNlIHRoaXMgZmlsZSBleGNlcHQgaW4gY29tcGxpYW5jZSB3aXRoIHRoZSBMaWNlbnNlLgovLyBZb3UgbWF5IG9idGFpbiBhIGNvcHkgb2YgdGhlIExpY2Vuc2UgYXQKLy8KLy8gICAgICBodHRwOi8vd3d3LmFwYWNoZS5vcmcvbGljZW5zZXMvTElDRU5TRS0yLjAKLy8KLy8gVW5sZXNzIHJlcXVpcmVkIGJ5IGFwcGxpY2FibGUgbGF3IG9yIGFncmVlZCB0byBpbiB3cml0aW5nLCBzb2Z0d2FyZQovLyBkaXN0cmlidXRlZCB1bmRlciB0aGUgTGljZW5zZSBpcyBkaXN0cmlidXRlZCBvbiBhbiAiQVMgSVMiIEJBU0lTLAovLyBXSVRIT1VUIFdBUlJBTlRJRVMgT1IgQ09ORElUSU9OUyBPRiBBTlkgS0lORCwgZWl0aGVyIGV4cHJlc3Mgb3IgaW1wbGllZC4KLy8gU2VlIHRoZSBMaWNlbnNlIGZvciB0aGUgc3BlY2lmaWMgbGFuZ3VhZ2UgZ292ZXJuaW5nIHBlcm1pc3Npb25zIGFuZAovLyBsaW1pdGF0aW9ucyB1bmRlciB0aGUgTGljZW5zZS4KCi8qKgogKiBAZmlsZW92ZXJ2aWV3IEhlbHBlcnMgZm9yIGdvb2dsZS5jb2xhYiBQeXRob24gbW9kdWxlLgogKi8KKGZ1bmN0aW9uKHNjb3BlKSB7CmZ1bmN0aW9uIHNwYW4odGV4dCwgc3R5bGVBdHRyaWJ1dGVzID0ge30pIHsKICBjb25zdCBlbGVtZW50ID0gZG9jdW1lbnQuY3JlYXRlRWxlbWVudCgnc3BhbicpOwogIGVsZW1lbnQudGV4dENvbnRlbnQgPSB0ZXh0OwogIGZvciAoY29uc3Qga2V5IG9mIE9iamVjdC5rZXlzKHN0eWxlQXR0cmlidXRlcykpIHsKICAgIGVsZW1lbnQuc3R5bGVba2V5XSA9IHN0eWxlQXR0cmlidXRlc1trZXldOwogIH0KICByZXR1cm4gZWxlbWVudDsKfQoKLy8gTWF4IG51bWJlciBvZiBieXRlcyB3aGljaCB3aWxsIGJlIHVwbG9hZGVkIGF0IGEgdGltZS4KY29uc3QgTUFYX1BBWUxPQURfU0laRSA9IDEwMCAqIDEwMjQ7CgpmdW5jdGlvbiBfdXBsb2FkRmlsZXMoaW5wdXRJZCwgb3V0cHV0SWQpIHsKICBjb25zdCBzdGVwcyA9IHVwbG9hZEZpbGVzU3RlcChpbnB1dElkLCBvdXRwdXRJZCk7CiAgY29uc3Qgb3V0cHV0RWxlbWVudCA9IGRvY3VtZW50LmdldEVsZW1lbnRCeUlkKG91dHB1dElkKTsKICAvLyBDYWNoZSBzdGVwcyBvbiB0aGUgb3V0cHV0RWxlbWVudCB0byBtYWtlIGl0IGF2YWlsYWJsZSBmb3IgdGhlIG5leHQgY2FsbAogIC8vIHRvIHVwbG9hZEZpbGVzQ29udGludWUgZnJvbSBQeXRob24uCiAgb3V0cHV0RWxlbWVudC5zdGVwcyA9IHN0ZXBzOwoKICByZXR1cm4gX3VwbG9hZEZpbGVzQ29udGludWUob3V0cHV0SWQpOwp9CgovLyBUaGlzIGlzIHJvdWdobHkgYW4gYXN5bmMgZ2VuZXJhdG9yIChub3Qgc3VwcG9ydGVkIGluIHRoZSBicm93c2VyIHlldCksCi8vIHdoZXJlIHRoZXJlIGFyZSBtdWx0aXBsZSBhc3luY2hyb25vdXMgc3RlcHMgYW5kIHRoZSBQeXRob24gc2lkZSBpcyBnb2luZwovLyB0byBwb2xsIGZvciBjb21wbGV0aW9uIG9mIGVhY2ggc3RlcC4KLy8gVGhpcyB1c2VzIGEgUHJvbWlzZSB0byBibG9jayB0aGUgcHl0aG9uIHNpZGUgb24gY29tcGxldGlvbiBvZiBlYWNoIHN0ZXAsCi8vIHRoZW4gcGFzc2VzIHRoZSByZXN1bHQgb2YgdGhlIHByZXZpb3VzIHN0ZXAgYXMgdGhlIGlucHV0IHRvIHRoZSBuZXh0IHN0ZXAuCmZ1bmN0aW9uIF91cGxvYWRGaWxlc0NvbnRpbnVlKG91dHB1dElkKSB7CiAgY29uc3Qgb3V0cHV0RWxlbWVudCA9IGRvY3VtZW50LmdldEVsZW1lbnRCeUlkKG91dHB1dElkKTsKICBjb25zdCBzdGVwcyA9IG91dHB1dEVsZW1lbnQuc3RlcHM7CgogIGNvbnN0IG5leHQgPSBzdGVwcy5uZXh0KG91dHB1dEVsZW1lbnQubGFzdFByb21pc2VWYWx1ZSk7CiAgcmV0dXJuIFByb21pc2UucmVzb2x2ZShuZXh0LnZhbHVlLnByb21pc2UpLnRoZW4oKHZhbHVlKSA9PiB7CiAgICAvLyBDYWNoZSB0aGUgbGFzdCBwcm9taXNlIHZhbHVlIHRvIG1ha2UgaXQgYXZhaWxhYmxlIHRvIHRoZSBuZXh0CiAgICAvLyBzdGVwIG9mIHRoZSBnZW5lcmF0b3IuCiAgICBvdXRwdXRFbGVtZW50Lmxhc3RQcm9taXNlVmFsdWUgPSB2YWx1ZTsKICAgIHJldHVybiBuZXh0LnZhbHVlLnJlc3BvbnNlOwogIH0pOwp9CgovKioKICogR2VuZXJhdG9yIGZ1bmN0aW9uIHdoaWNoIGlzIGNhbGxlZCBiZXR3ZWVuIGVhY2ggYXN5bmMgc3RlcCBvZiB0aGUgdXBsb2FkCiAqIHByb2Nlc3MuCiAqIEBwYXJhbSB7c3RyaW5nfSBpbnB1dElkIEVsZW1lbnQgSUQgb2YgdGhlIGlucHV0IGZpbGUgcGlja2VyIGVsZW1lbnQuCiAqIEBwYXJhbSB7c3RyaW5nfSBvdXRwdXRJZCBFbGVtZW50IElEIG9mIHRoZSBvdXRwdXQgZGlzcGxheS4KICogQHJldHVybiB7IUl0ZXJhYmxlPCFPYmplY3Q+fSBJdGVyYWJsZSBvZiBuZXh0IHN0ZXBzLgogKi8KZnVuY3Rpb24qIHVwbG9hZEZpbGVzU3RlcChpbnB1dElkLCBvdXRwdXRJZCkgewogIGNvbnN0IGlucHV0RWxlbWVudCA9IGRvY3VtZW50LmdldEVsZW1lbnRCeUlkKGlucHV0SWQpOwogIGlucHV0RWxlbWVudC5kaXNhYmxlZCA9IGZhbHNlOwoKICBjb25zdCBvdXRwdXRFbGVtZW50ID0gZG9jdW1lbnQuZ2V0RWxlbWVudEJ5SWQob3V0cHV0SWQpOwogIG91dHB1dEVsZW1lbnQuaW5uZXJIVE1MID0gJyc7CgogIGNvbnN0IHBpY2tlZFByb21pc2UgPSBuZXcgUHJvbWlzZSgocmVzb2x2ZSkgPT4gewogICAgaW5wdXRFbGVtZW50LmFkZEV2ZW50TGlzdGVuZXIoJ2NoYW5nZScsIChlKSA9PiB7CiAgICAgIHJlc29sdmUoZS50YXJnZXQuZmlsZXMpOwogICAgfSk7CiAgfSk7CgogIGNvbnN0IGNhbmNlbCA9IGRvY3VtZW50LmNyZWF0ZUVsZW1lbnQoJ2J1dHRvbicpOwogIGlucHV0RWxlbWVudC5wYXJlbnRFbGVtZW50LmFwcGVuZENoaWxkKGNhbmNlbCk7CiAgY2FuY2VsLnRleHRDb250ZW50ID0gJ0NhbmNlbCB1cGxvYWQnOwogIGNvbnN0IGNhbmNlbFByb21pc2UgPSBuZXcgUHJvbWlzZSgocmVzb2x2ZSkgPT4gewogICAgY2FuY2VsLm9uY2xpY2sgPSAoKSA9PiB7CiAgICAgIHJlc29sdmUobnVsbCk7CiAgICB9OwogIH0pOwoKICAvLyBXYWl0IGZvciB0aGUgdXNlciB0byBwaWNrIHRoZSBmaWxlcy4KICBjb25zdCBmaWxlcyA9IHlpZWxkIHsKICAgIHByb21pc2U6IFByb21pc2UucmFjZShbcGlja2VkUHJvbWlzZSwgY2FuY2VsUHJvbWlzZV0pLAogICAgcmVzcG9uc2U6IHsKICAgICAgYWN0aW9uOiAnc3RhcnRpbmcnLAogICAgfQogIH07CgogIGNhbmNlbC5yZW1vdmUoKTsKCiAgLy8gRGlzYWJsZSB0aGUgaW5wdXQgZWxlbWVudCBzaW5jZSBmdXJ0aGVyIHBpY2tzIGFyZSBub3QgYWxsb3dlZC4KICBpbnB1dEVsZW1lbnQuZGlzYWJsZWQgPSB0cnVlOwoKICBpZiAoIWZpbGVzKSB7CiAgICByZXR1cm4gewogICAgICByZXNwb25zZTogewogICAgICAgIGFjdGlvbjogJ2NvbXBsZXRlJywKICAgICAgfQogICAgfTsKICB9CgogIGZvciAoY29uc3QgZmlsZSBvZiBmaWxlcykgewogICAgY29uc3QgbGkgPSBkb2N1bWVudC5jcmVhdGVFbGVtZW50KCdsaScpOwogICAgbGkuYXBwZW5kKHNwYW4oZmlsZS5uYW1lLCB7Zm9udFdlaWdodDogJ2JvbGQnfSkpOwogICAgbGkuYXBwZW5kKHNwYW4oCiAgICAgICAgYCgke2ZpbGUudHlwZSB8fCAnbi9hJ30pIC0gJHtmaWxlLnNpemV9IGJ5dGVzLCBgICsKICAgICAgICBgbGFzdCBtb2RpZmllZDogJHsKICAgICAgICAgICAgZmlsZS5sYXN0TW9kaWZpZWREYXRlID8gZmlsZS5sYXN0TW9kaWZpZWREYXRlLnRvTG9jYWxlRGF0ZVN0cmluZygpIDoKICAgICAgICAgICAgICAgICAgICAgICAgICAgICAgICAgICAgJ24vYSd9IC0gYCkpOwogICAgY29uc3QgcGVyY2VudCA9IHNwYW4oJzAlIGRvbmUnKTsKICAgIGxpLmFwcGVuZENoaWxkKHBlcmNlbnQpOwoKICAgIG91dHB1dEVsZW1lbnQuYXBwZW5kQ2hpbGQobGkpOwoKICAgIGNvbnN0IGZpbGVEYXRhUHJvbWlzZSA9IG5ldyBQcm9taXNlKChyZXNvbHZlKSA9PiB7CiAgICAgIGNvbnN0IHJlYWRlciA9IG5ldyBGaWxlUmVhZGVyKCk7CiAgICAgIHJlYWRlci5vbmxvYWQgPSAoZSkgPT4gewogICAgICAgIHJlc29sdmUoZS50YXJnZXQucmVzdWx0KTsKICAgICAgfTsKICAgICAgcmVhZGVyLnJlYWRBc0FycmF5QnVmZmVyKGZpbGUpOwogICAgfSk7CiAgICAvLyBXYWl0IGZvciB0aGUgZGF0YSB0byBiZSByZWFkeS4KICAgIGxldCBmaWxlRGF0YSA9IHlpZWxkIHsKICAgICAgcHJvbWlzZTogZmlsZURhdGFQcm9taXNlLAogICAgICByZXNwb25zZTogewogICAgICAgIGFjdGlvbjogJ2NvbnRpbnVlJywKICAgICAgfQogICAgfTsKCiAgICAvLyBVc2UgYSBjaHVua2VkIHNlbmRpbmcgdG8gYXZvaWQgbWVzc2FnZSBzaXplIGxpbWl0cy4gU2VlIGIvNjIxMTU2NjAuCiAgICBsZXQgcG9zaXRpb24gPSAwOwogICAgd2hpbGUgKHBvc2l0aW9uIDwgZmlsZURhdGEuYnl0ZUxlbmd0aCkgewogICAgICBjb25zdCBsZW5ndGggPSBNYXRoLm1pbihmaWxlRGF0YS5ieXRlTGVuZ3RoIC0gcG9zaXRpb24sIE1BWF9QQVlMT0FEX1NJWkUpOwogICAgICBjb25zdCBjaHVuayA9IG5ldyBVaW50OEFycmF5KGZpbGVEYXRhLCBwb3NpdGlvbiwgbGVuZ3RoKTsKICAgICAgcG9zaXRpb24gKz0gbGVuZ3RoOwoKICAgICAgY29uc3QgYmFzZTY0ID0gYnRvYShTdHJpbmcuZnJvbUNoYXJDb2RlLmFwcGx5KG51bGwsIGNodW5rKSk7CiAgICAgIHlpZWxkIHsKICAgICAgICByZXNwb25zZTogewogICAgICAgICAgYWN0aW9uOiAnYXBwZW5kJywKICAgICAgICAgIGZpbGU6IGZpbGUubmFtZSwKICAgICAgICAgIGRhdGE6IGJhc2U2NCwKICAgICAgICB9LAogICAgICB9OwogICAgICBwZXJjZW50LnRleHRDb250ZW50ID0KICAgICAgICAgIGAke01hdGgucm91bmQoKHBvc2l0aW9uIC8gZmlsZURhdGEuYnl0ZUxlbmd0aCkgKiAxMDApfSUgZG9uZWA7CiAgICB9CiAgfQoKICAvLyBBbGwgZG9uZS4KICB5aWVsZCB7CiAgICByZXNwb25zZTogewogICAgICBhY3Rpb246ICdjb21wbGV0ZScsCiAgICB9CiAgfTsKfQoKc2NvcGUuZ29vZ2xlID0gc2NvcGUuZ29vZ2xlIHx8IHt9OwpzY29wZS5nb29nbGUuY29sYWIgPSBzY29wZS5nb29nbGUuY29sYWIgfHwge307CnNjb3BlLmdvb2dsZS5jb2xhYi5fZmlsZXMgPSB7CiAgX3VwbG9hZEZpbGVzLAogIF91cGxvYWRGaWxlc0NvbnRpbnVlLAp9Owp9KShzZWxmKTsK",
              "ok": true,
              "headers": [
                [
                  "content-type",
                  "application/javascript"
                ]
              ],
              "status": 200,
              "status_text": ""
            }
          },
          "base_uri": "https://localhost:8080/",
          "height": 72
        },
        "id": "M6zsKvclIPoR",
        "outputId": "d68614d1-6cb2-48c4-b09c-e775a08b9484"
      },
      "source": [
        "from google.colab import files\n",
        "data_to_load = files.upload()"
      ],
      "execution_count": null,
      "outputs": [
        {
          "output_type": "display_data",
          "data": {
            "text/html": [
              "\n",
              "     <input type=\"file\" id=\"files-a183a219-6ea0-47e6-9d6a-a0f7da39019c\" name=\"files[]\" multiple disabled\n",
              "        style=\"border:none\" />\n",
              "     <output id=\"result-a183a219-6ea0-47e6-9d6a-a0f7da39019c\">\n",
              "      Upload widget is only available when the cell has been executed in the\n",
              "      current browser session. Please rerun this cell to enable.\n",
              "      </output>\n",
              "      <script src=\"/nbextensions/google.colab/files.js\"></script> "
            ],
            "text/plain": [
              "<IPython.core.display.HTML object>"
            ]
          },
          "metadata": {
            "tags": []
          }
        },
        {
          "output_type": "stream",
          "text": [
            "Saving file_namecobafix.csv to file_namecobafix.csv\n"
          ],
          "name": "stdout"
        }
      ]
    },
    {
      "cell_type": "code",
      "metadata": {
        "id": "HBXYYleknYsd"
      },
      "source": [
        "import io\n",
        "dataset1 = pd.read_csv(io.BytesIO(data_to_load['file_namecobafix.csv']))"
      ],
      "execution_count": null,
      "outputs": []
    },
    {
      "cell_type": "code",
      "metadata": {
        "id": "Kd7St8pSIVPO"
      },
      "source": [
        "#visualisasi korelasi antar kolom dari data yang sudah di undersampler\n",
        "num_df = dataset1[features]\n",
        "plt.subplots(figsize=(12,12))\n",
        "sns.heatmap(num_df.corr(), annot=True, fmt='.1g', vmin=-1, vmax=1, mask=np.triu(num_df.corr()), cmap='coolwarm')\n",
        "plt.show()"
      ],
      "execution_count": null,
      "outputs": []
    },
    {
      "cell_type": "code",
      "metadata": {
        "id": "Uo1T_JXwIh3X"
      },
      "source": [
        "#visualisasi proposi churn dan tidak churn terhadap kolom bertipe kategorikal pada data yang sudah di undersampler\n",
        "ROWS, COLS = 3, 3\n",
        "fig, ax = plt.subplots(ROWS, COLS, figsize=(18, 20) )\n",
        "row, col = 0, 0\n",
        "for i, categorical_feature in enumerate(categorical_features):\n",
        " if col == COLS - 1: row += 1\n",
        " col = i % COLS\n",
        " dataset1[dataset1.churn_or_not=='nochurn'][categorical_feature].value_counts().plot(kind='bar', width=.5, ax=ax[row, col], color='blue', alpha=0.5).set_title(categorical_feature)\n",
        " dataset1[dataset1.churn_or_not=='churn'][categorical_feature].value_counts().plot(kind='bar', width=.3, ax=ax[row, col], color='orange', alpha=0.7).set_title(categorical_feature)\n",
        " plt.legend(['No Churn', 'Churn'])\n",
        " fig.subplots_adjust(hspace=0.7)"
      ],
      "execution_count": null,
      "outputs": []
    },
    {
      "cell_type": "code",
      "metadata": {
        "id": "mF_w4_4NIuZA",
        "colab": {
          "base_uri": "https://localhost:8080/",
          "height": 312
        },
        "outputId": "015bb54a-11f2-4637-afe7-ef29afa63239"
      },
      "source": [
        "#visualisasi feature final_score terhadap proposi pelanggan yang churn maupun tidak pada data yang sudah di undersampler\n",
        "feature1 = ['final_score']\n",
        "\n",
        "fig, ax = plt.subplots(figsize=(14, 4))\n",
        "dataset1[dataset1.churn_or_not=='nochurn'][feature1].hist(bins=30, color=\"blue\", alpha=0.5, ax=ax)\n",
        "dataset1[dataset1.churn_or_not=='churn'][feature1].hist(bins=30, color=\"red\", alpha=0.5, ax=ax)\n",
        "plt.legend(['No Churn', 'Churn'])\n",
        "plt.xlabel(\"Final score\")\n",
        "plt.ylabel(\"Jumlah pengguna\")"
      ],
      "execution_count": null,
      "outputs": [
        {
          "output_type": "execute_result",
          "data": {
            "text/plain": [
              "Text(0, 0.5, 'Jumlah pengguna')"
            ]
          },
          "metadata": {
            "tags": []
          },
          "execution_count": 18
        },
        {
          "output_type": "display_data",
          "data": {
            "image/png": "[encoded data removed]",
            "text/plain": [
              "<Figure size 1008x288 with 1 Axes>"
            ]
          },
          "metadata": {
            "tags": [],
            "needs_background": "light"
          }
        }
      ]
    },
    {
      "cell_type": "code",
      "metadata": {
        "id": "F8YSAAHwN9Va",
        "colab": {
          "base_uri": "https://localhost:8080/",
          "height": 312
        },
        "outputId": "4447a0b7-f47f-4a59-ff5c-e24b2aa79f7a"
      },
      "source": [
        "#visualisasi feature duration terhadap proposi pelanggan yang churn maupun tidak pada data yang sudah di undersampler\n",
        "feature2 = ['duration']\n",
        "\n",
        "fig, ax = plt.subplots(figsize=(14, 4))\n",
        "dataset1[dataset1.churn_or_not=='nochurn'][feature2].hist(bins=30, color=\"blue\", alpha=0.5, ax=ax)\n",
        "dataset1[dataset1.churn_or_not=='churn'][feature2].hist(bins=30, color=\"red\", alpha=0.5, ax=ax)\n",
        "plt.legend(['No Churn', 'Churn'])\n",
        "plt.xlabel(\"Durasi\")\n",
        "plt.ylabel(\"Jumlah pengguna\")"
      ],
      "execution_count": null,
      "outputs": [
        {
          "output_type": "execute_result",
          "data": {
            "text/plain": [
              "Text(0, 0.5, 'Jumlah pengguna')"
            ]
          },
          "metadata": {
            "tags": []
          },
          "execution_count": 19
        },
        {
          "output_type": "display_data",
          "data": {
            "image/png": "[encoded data removed]",
            "text/plain": [
              "<Figure size 1008x288 with 1 Axes>"
            ]
          },
          "metadata": {
            "tags": [],
            "needs_background": "light"
          }
        }
      ]
    },
    {
      "cell_type": "markdown",
      "metadata": {
        "id": "NIkZAxwlz6DB"
      },
      "source": [
        "# Data Preparation"
      ]
    },
    {
      "cell_type": "markdown",
      "metadata": {
        "id": "dBrRf7f_z6DC"
      },
      "source": [
        "Label Encoder Dataset"
      ]
    },
    {
      "cell_type": "code",
      "metadata": {
        "id": "vJNF4tfiz6DE",
        "colab": {
          "base_uri": "https://localhost:8080/",
          "height": 419
        },
        "outputId": "a9f014c4-27bd-4839-bf31-3443c0f52120"
      },
      "source": [
        "#data preparation\n",
        "#label encoder\n",
        "from sklearn.preprocessing import LabelEncoder\n",
        "\n",
        "dataset['province_encoded'] = LabelEncoder().fit_transform(dataset['province'])\n",
        "dataset[['province', 'province_encoded']]"
      ],
      "execution_count": null,
      "outputs": [
        {
          "output_type": "execute_result",
          "data": {
            "text/html": [
              "<div>\n",
              "<style scoped>\n",
              "    .dataframe tbody tr th:only-of-type {\n",
              "        vertical-align: middle;\n",
              "    }\n",
              "\n",
              "    .dataframe tbody tr th {\n",
              "        vertical-align: top;\n",
              "    }\n",
              "\n",
              "    .dataframe thead th {\n",
              "        text-align: right;\n",
              "    }\n",
              "</style>\n",
              "<table border=\"1\" class=\"dataframe\">\n",
              "  <thead>\n",
              "    <tr style=\"text-align: right;\">\n",
              "      <th></th>\n",
              "      <th>province</th>\n",
              "      <th>province_encoded</th>\n",
              "    </tr>\n",
              "  </thead>\n",
              "  <tbody>\n",
              "    <tr>\n",
              "      <th>357</th>\n",
              "      <td>RIAU</td>\n",
              "      <td>25</td>\n",
              "    </tr>\n",
              "    <tr>\n",
              "      <th>358</th>\n",
              "      <td>JAWA TIMUR</td>\n",
              "      <td>10</td>\n",
              "    </tr>\n",
              "    <tr>\n",
              "      <th>359</th>\n",
              "      <td>JAWA TENGAH</td>\n",
              "      <td>9</td>\n",
              "    </tr>\n",
              "    <tr>\n",
              "      <th>360</th>\n",
              "      <td>SULAWESI SELATAN</td>\n",
              "      <td>27</td>\n",
              "    </tr>\n",
              "    <tr>\n",
              "      <th>361</th>\n",
              "      <td>JAWA BARAT</td>\n",
              "      <td>8</td>\n",
              "    </tr>\n",
              "    <tr>\n",
              "      <th>...</th>\n",
              "      <td>...</td>\n",
              "      <td>...</td>\n",
              "    </tr>\n",
              "    <tr>\n",
              "      <th>9175</th>\n",
              "      <td>DKI JAKARTA</td>\n",
              "      <td>5</td>\n",
              "    </tr>\n",
              "    <tr>\n",
              "      <th>9178</th>\n",
              "      <td>SUMATERA UTARA</td>\n",
              "      <td>33</td>\n",
              "    </tr>\n",
              "    <tr>\n",
              "      <th>9180</th>\n",
              "      <td>JAWA TIMUR</td>\n",
              "      <td>10</td>\n",
              "    </tr>\n",
              "    <tr>\n",
              "      <th>9188</th>\n",
              "      <td>JAWA TENGAH</td>\n",
              "      <td>9</td>\n",
              "    </tr>\n",
              "    <tr>\n",
              "      <th>9192</th>\n",
              "      <td>KALIMANTAN TIMUR</td>\n",
              "      <td>14</td>\n",
              "    </tr>\n",
              "  </tbody>\n",
              "</table>\n",
              "<p>4804 rows × 2 columns</p>\n",
              "</div>"
            ],
            "text/plain": [
              "              province  province_encoded\n",
              "357               RIAU                25\n",
              "358         JAWA TIMUR                10\n",
              "359        JAWA TENGAH                 9\n",
              "360   SULAWESI SELATAN                27\n",
              "361         JAWA BARAT                 8\n",
              "...                ...               ...\n",
              "9175       DKI JAKARTA                 5\n",
              "9178    SUMATERA UTARA                33\n",
              "9180        JAWA TIMUR                10\n",
              "9188       JAWA TENGAH                 9\n",
              "9192  KALIMANTAN TIMUR                14\n",
              "\n",
              "[4804 rows x 2 columns]"
            ]
          },
          "metadata": {
            "tags": []
          },
          "execution_count": 15
        }
      ]
    },
    {
      "cell_type": "code",
      "metadata": {
        "id": "hu_kSc_Bz6DK"
      },
      "source": [
        "#merubah kolom churn_or_not menjadi numerikal dengan mengganti label 0 dan 1 untuk churn dan tidak churn\n",
        "dataset['churn_or_not'].replace({'nochurn':1,'churn':0},inplace=True)"
      ],
      "execution_count": null,
      "outputs": []
    },
    {
      "cell_type": "code",
      "metadata": {
        "id": "FNub-vPvz6DK"
      },
      "source": [
        "#membuang kolom region sebelum di label encoder pada data awal\n",
        "dataset = dataset.drop(dataset.columns[[1]], axis=1)"
      ],
      "execution_count": null,
      "outputs": []
    },
    {
      "cell_type": "code",
      "metadata": {
        "id": "JubxLxp4z6DG",
        "colab": {
          "base_uri": "https://localhost:8080/"
        },
        "outputId": "a49ed597-3b52-4fc0-88b7-df764f792823"
      },
      "source": [
        "dataset.dtypes"
      ],
      "execution_count": null,
      "outputs": [
        {
          "output_type": "execute_result",
          "data": {
            "text/plain": [
              "id_user             float64\n",
              "duration            float64\n",
              "finished_to         float64\n",
              "seeing_result       float64\n",
              "seeing_solution     float64\n",
              "fill_feedback         int64\n",
              "reliability_to      float64\n",
              "responsive_to       float64\n",
              "tangibles_to        float64\n",
              "emphaty_to          float64\n",
              "assurance_to        float64\n",
              "final_score         float64\n",
              "churn_or_not          int64\n",
              "province_encoded      int64\n",
              "dtype: object"
            ]
          },
          "metadata": {
            "tags": []
          },
          "execution_count": 45
        }
      ]
    },
    {
      "cell_type": "code",
      "metadata": {
        "id": "FfZ1mTm11Zn8"
      },
      "source": [
        "cols_to_scale = ['duration','final_score', 'reliability_to', 'responsive_to', 'tangibles_to', 'emphaty_to', 'assurance_to', 'province_encoded']\n",
        "\n",
        "from sklearn.preprocessing import MinMaxScaler\n",
        "scaler = MinMaxScaler()\n",
        "dataset[cols_to_scale] = scaler.fit_transform(dataset[cols_to_scale])"
      ],
      "execution_count": null,
      "outputs": []
    },
    {
      "cell_type": "code",
      "metadata": {
        "id": "UXMaPcArg1MR"
      },
      "source": [
        "num_df = dataset.select_dtypes(['number'])\n",
        "plt.subplots(figsize=(12,12))\n",
        "sns.heatmap(num_df.corr(), annot=True, fmt='.1g', vmin=-1, vmax=1, mask=np.triu(num_df.corr()), cmap='coolwarm')\n",
        "plt.show()"
      ],
      "execution_count": null,
      "outputs": []
    },
    {
      "cell_type": "markdown",
      "metadata": {
        "id": "5z56xjDQJvaX"
      },
      "source": [
        "Label encoder data yang di undersampler manual"
      ]
    },
    {
      "cell_type": "code",
      "metadata": {
        "colab": {
          "base_uri": "https://localhost:8080/",
          "height": 419
        },
        "id": "2xqvc-nVKrj5",
        "outputId": "346f0884-8bcb-4530-cb8f-9b12c62d4aaa"
      },
      "source": [
        "#label encoder pada data yang telah di undersampler\n",
        "from sklearn.preprocessing import LabelEncoder\n",
        "dataset1['province_encoded'] = LabelEncoder().fit_transform(dataset1['province'])\n",
        "dataset1[['province', 'province_encoded']]"
      ],
      "execution_count": null,
      "outputs": [
        {
          "output_type": "execute_result",
          "data": {
            "text/html": [
              "<div>\n",
              "<style scoped>\n",
              "    .dataframe tbody tr th:only-of-type {\n",
              "        vertical-align: middle;\n",
              "    }\n",
              "\n",
              "    .dataframe tbody tr th {\n",
              "        vertical-align: top;\n",
              "    }\n",
              "\n",
              "    .dataframe thead th {\n",
              "        text-align: right;\n",
              "    }\n",
              "</style>\n",
              "<table border=\"1\" class=\"dataframe\">\n",
              "  <thead>\n",
              "    <tr style=\"text-align: right;\">\n",
              "      <th></th>\n",
              "      <th>province</th>\n",
              "      <th>province_encoded</th>\n",
              "    </tr>\n",
              "  </thead>\n",
              "  <tbody>\n",
              "    <tr>\n",
              "      <th>0</th>\n",
              "      <td>JAWA BARAT</td>\n",
              "      <td>8</td>\n",
              "    </tr>\n",
              "    <tr>\n",
              "      <th>1</th>\n",
              "      <td>JAWA TENGAH</td>\n",
              "      <td>9</td>\n",
              "    </tr>\n",
              "    <tr>\n",
              "      <th>2</th>\n",
              "      <td>JAWA TIMUR</td>\n",
              "      <td>10</td>\n",
              "    </tr>\n",
              "    <tr>\n",
              "      <th>3</th>\n",
              "      <td>JAWA TENGAH</td>\n",
              "      <td>9</td>\n",
              "    </tr>\n",
              "    <tr>\n",
              "      <th>4</th>\n",
              "      <td>JAWA BARAT</td>\n",
              "      <td>8</td>\n",
              "    </tr>\n",
              "    <tr>\n",
              "      <th>...</th>\n",
              "      <td>...</td>\n",
              "      <td>...</td>\n",
              "    </tr>\n",
              "    <tr>\n",
              "      <th>2017</th>\n",
              "      <td>JAWA TIMUR</td>\n",
              "      <td>10</td>\n",
              "    </tr>\n",
              "    <tr>\n",
              "      <th>2018</th>\n",
              "      <td>DKI JAKARTA</td>\n",
              "      <td>5</td>\n",
              "    </tr>\n",
              "    <tr>\n",
              "      <th>2019</th>\n",
              "      <td>JAWA TIMUR</td>\n",
              "      <td>10</td>\n",
              "    </tr>\n",
              "    <tr>\n",
              "      <th>2020</th>\n",
              "      <td>JAWA TENGAH</td>\n",
              "      <td>9</td>\n",
              "    </tr>\n",
              "    <tr>\n",
              "      <th>2021</th>\n",
              "      <td>JAWA TENGAH</td>\n",
              "      <td>9</td>\n",
              "    </tr>\n",
              "  </tbody>\n",
              "</table>\n",
              "<p>2022 rows × 2 columns</p>\n",
              "</div>"
            ],
            "text/plain": [
              "         province  province_encoded\n",
              "0      JAWA BARAT                 8\n",
              "1     JAWA TENGAH                 9\n",
              "2      JAWA TIMUR                10\n",
              "3     JAWA TENGAH                 9\n",
              "4      JAWA BARAT                 8\n",
              "...           ...               ...\n",
              "2017   JAWA TIMUR                10\n",
              "2018  DKI JAKARTA                 5\n",
              "2019   JAWA TIMUR                10\n",
              "2020  JAWA TENGAH                 9\n",
              "2021  JAWA TENGAH                 9\n",
              "\n",
              "[2022 rows x 2 columns]"
            ]
          },
          "metadata": {
            "tags": []
          },
          "execution_count": 18
        }
      ]
    },
    {
      "cell_type": "code",
      "metadata": {
        "id": "naxCq10fKxED"
      },
      "source": [
        "#merubah kolom churn_or_not menjadi numerikal dengan mengganti label 0 dan 1 untuk churn dan tidak churn\n",
        "dataset1['churn_or_not'].replace({'nochurn':1,'churn':0},inplace=True)"
      ],
      "execution_count": null,
      "outputs": []
    },
    {
      "cell_type": "code",
      "metadata": {
        "id": "m9amvxpFK_G7"
      },
      "source": [
        "#membuang kolom sebelum di label encoder pada data yang telah di undersampler\n",
        "dataset1 = dataset1.drop(dataset1.columns[[0,2]], axis=1)"
      ],
      "execution_count": null,
      "outputs": []
    },
    {
      "cell_type": "code",
      "metadata": {
        "colab": {
          "base_uri": "https://localhost:8080/"
        },
        "id": "H2xuMKPoK2mU",
        "outputId": "5657fb77-6b31-464c-8342-b1359b6eb5a5"
      },
      "source": [
        "dataset1.dtypes"
      ],
      "execution_count": null,
      "outputs": [
        {
          "output_type": "execute_result",
          "data": {
            "text/plain": [
              "id_user               int64\n",
              "duration            float64\n",
              "finished_to           int64\n",
              "seeing_result         int64\n",
              "seeing_solution       int64\n",
              "fill_feedback         int64\n",
              "reliability_to        int64\n",
              "responsive_to         int64\n",
              "tangibles_to          int64\n",
              "emphaty_to            int64\n",
              "assurance_to          int64\n",
              "final_score         float64\n",
              "churn_or_not          int64\n",
              "province_encoded      int64\n",
              "dtype: object"
            ]
          },
          "metadata": {
            "tags": []
          },
          "execution_count": 7
        }
      ]
    },
    {
      "cell_type": "markdown",
      "metadata": {
        "id": "-jwil_Njz6DL"
      },
      "source": [
        "semua udah numeric yeyy"
      ]
    },
    {
      "cell_type": "code",
      "metadata": {
        "id": "-hJPRqfCLyQe"
      },
      "source": [
        "dataset_utk_fi_rf12 = dataset[['final_score','id_user','duration','province_encoded','seeing_solution','seeing_result','churn_or_not']]"
      ],
      "execution_count": null,
      "outputs": []
    },
    {
      "cell_type": "code",
      "metadata": {
        "id": "ZN3JkjV9Moth"
      },
      "source": [
        "dataset_utk_fi_rf3 = dataset1[['final_score','id_user','duration','province_encoded','seeing_solution','seeing_result','churn_or_not']]"
      ],
      "execution_count": null,
      "outputs": []
    },
    {
      "cell_type": "code",
      "metadata": {
        "id": "SDZEBVuXM0Ih"
      },
      "source": [
        "dataset_utk_fi_svm3 = dataset1[['duration', 'finished_to', 'seeing_result', 'seeing_solution', 'fill_feedback', 'emphaty_to', 'reliability_to', 'assurance_to', 'churn_or_not']]"
      ],
      "execution_count": null,
      "outputs": []
    },
    {
      "cell_type": "markdown",
      "metadata": {
        "id": "OUpYIRKUVusj"
      },
      "source": [
        "**Split data**"
      ]
    },
    {
      "cell_type": "markdown",
      "metadata": {
        "id": "2K2tBkPMJ4NV"
      },
      "source": [
        "1. Splitting 80 20"
      ]
    },
    {
      "cell_type": "code",
      "metadata": {
        "id": "26cfLI8Sz6DN"
      },
      "source": [
        "#splitting data pada data awal dengan pembagian 80 training 20 testing\n",
        "X = dataset.drop('churn_or_not',axis='columns')\n",
        "y = dataset['churn_or_not']\n",
        "\n",
        "from sklearn.model_selection import train_test_split\n",
        "X_train, X_test, y_train, y_test = train_test_split(X,y,test_size=0.2,random_state=0, stratify=y)"
      ],
      "execution_count": null,
      "outputs": []
    },
    {
      "cell_type": "code",
      "metadata": {
        "id": "-Q97iM39kUEN"
      },
      "source": [
        "# Feature Scaling\n",
        "from sklearn.preprocessing import StandardScaler\n",
        "sc = StandardScaler()\n",
        "X_train = sc.fit_transform(X_train)\n",
        "X_test = sc.transform(X_test)"
      ],
      "execution_count": null,
      "outputs": []
    },
    {
      "cell_type": "markdown",
      "metadata": {
        "id": "yc8F7bV1J88Y"
      },
      "source": [
        "2. Oversampler dengan SMOTETomek"
      ]
    },
    {
      "cell_type": "code",
      "metadata": {
        "id": "_TG5XZluz6DO",
        "colab": {
          "base_uri": "https://localhost:8080/"
        },
        "outputId": "b1846b95-c739-4f45-c66c-09b0c99a3fe0"
      },
      "source": [
        "X_train.shape"
      ],
      "execution_count": null,
      "outputs": [
        {
          "output_type": "execute_result",
          "data": {
            "text/plain": [
              "(3843, 13)"
            ]
          },
          "metadata": {
            "tags": []
          },
          "execution_count": 29
        }
      ]
    },
    {
      "cell_type": "code",
      "metadata": {
        "id": "3lRXttsJz6DP",
        "colab": {
          "base_uri": "https://localhost:8080/"
        },
        "outputId": "34dc23f7-0c84-4047-bdd5-9c55b4b696ae"
      },
      "source": [
        "X_test.shape"
      ],
      "execution_count": null,
      "outputs": [
        {
          "output_type": "execute_result",
          "data": {
            "text/plain": [
              "(961, 13)"
            ]
          },
          "metadata": {
            "tags": []
          },
          "execution_count": 30
        }
      ]
    },
    {
      "cell_type": "code",
      "metadata": {
        "colab": {
          "base_uri": "https://localhost:8080/"
        },
        "id": "ObyDt555hO5H",
        "outputId": "ab53b131-1004-4eab-c76b-bcf87c6ed88c"
      },
      "source": [
        "print(\"Banyaknya data yang di train untuk pelanggan yang stayed: {}\".format(sum(y_train==1)))\n",
        "print(\"Banyaknya data yang di train untuk pelanggan yang churned: {} \\n\".format(sum(y_train==0)))"
      ],
      "execution_count": null,
      "outputs": [
        {
          "output_type": "stream",
          "text": [
            "Banyaknya data yang di train untuk pelanggan yang stayed: 809\n",
            "Banyaknya data yang di train untuk pelanggan yang churned: 3034 \n",
            "\n"
          ],
          "name": "stdout"
        }
      ]
    },
    {
      "cell_type": "code",
      "metadata": {
        "id": "tFl_QJTdOVb1"
      },
      "source": [
        "#splitting data dengan di oversampling menggunakan metode smote tomek\n",
        "from imblearn.combine import SMOTETomek\n",
        "\n",
        "smk = SMOTETomek()\n",
        "# Oversample training  data\n",
        "X_train_smote, y_train_smote = smk.fit_sample(X_train, y_train)\n",
        "\n",
        "# Oversample validation data\n",
        "X_test_smote, y_test_smote = smk.fit_sample(X_test, y_test)"
      ],
      "execution_count": null,
      "outputs": []
    },
    {
      "cell_type": "code",
      "metadata": {
        "colab": {
          "base_uri": "https://localhost:8080/"
        },
        "id": "sj-wM-mlkGfQ",
        "outputId": "53155d8e-f73e-416e-f8bf-2f7a94d403c9"
      },
      "source": [
        "X_train_smote.shape"
      ],
      "execution_count": null,
      "outputs": [
        {
          "output_type": "execute_result",
          "data": {
            "text/plain": [
              "(5000, 13)"
            ]
          },
          "metadata": {
            "tags": []
          },
          "execution_count": 31
        }
      ]
    },
    {
      "cell_type": "code",
      "metadata": {
        "colab": {
          "base_uri": "https://localhost:8080/"
        },
        "id": "4lvqdn2YkKZ4",
        "outputId": "2bc505ac-d088-45c4-e7ea-a956901450b1"
      },
      "source": [
        "X_test_smote.shape"
      ],
      "execution_count": null,
      "outputs": [
        {
          "output_type": "execute_result",
          "data": {
            "text/plain": [
              "(1188, 13)"
            ]
          },
          "metadata": {
            "tags": []
          },
          "execution_count": 32
        }
      ]
    },
    {
      "cell_type": "code",
      "metadata": {
        "colab": {
          "base_uri": "https://localhost:8080/"
        },
        "id": "mOSJD96n6noV",
        "outputId": "6215361b-bc53-4bbd-d1f8-7a22f4914020"
      },
      "source": [
        "print(\"Banyaknya data yang di train untuk pelanggan yang stayed dengan oversampling: {}\".format(sum(y_train_smote==1)))\n",
        "print(\"Banyaknya data yang di train untuk pelanggan yang churned dengan oversampling: {} \\n\".format(sum(y_train_smote==0)))"
      ],
      "execution_count": null,
      "outputs": [
        {
          "output_type": "stream",
          "text": [
            "Banyaknya data yang di train untuk pelanggan yang stayed dengan oversampling: 2500\n",
            "Banyaknya data yang di train untuk pelanggan yang churned dengan oversampling: 2500 \n",
            "\n"
          ],
          "name": "stdout"
        }
      ]
    },
    {
      "cell_type": "markdown",
      "metadata": {
        "id": "gGEc58SNKDlh"
      },
      "source": [
        "3. Undersampler manual 80 20"
      ]
    },
    {
      "cell_type": "code",
      "metadata": {
        "id": "5yOvRiRDomsF"
      },
      "source": [
        "#splitting data pada data yang telah di undersampler dengan 80 training dan 20 testing\n",
        "X1 = dataset1.drop('churn_or_not',axis='columns')\n",
        "y1 = dataset1['churn_or_not']\n",
        "\n",
        "from sklearn.model_selection import train_test_split\n",
        "X_train_manual, X_test_manual, y_train_manual, y_test_manual = train_test_split(X1,y1,test_size=0.2,random_state=0, stratify = y1)"
      ],
      "execution_count": null,
      "outputs": []
    },
    {
      "cell_type": "code",
      "metadata": {
        "id": "COHVTbVUkcLp"
      },
      "source": [
        "# Feature Scaling\n",
        "from sklearn.preprocessing import StandardScaler\n",
        "sc = StandardScaler()\n",
        "X_train_manual = sc.fit_transform(X_train_manual)\n",
        "X_test_manual = sc.transform(X_test_manual)"
      ],
      "execution_count": null,
      "outputs": []
    },
    {
      "cell_type": "code",
      "metadata": {
        "colab": {
          "base_uri": "https://localhost:8080/"
        },
        "id": "VpBrlD_k7HvF",
        "outputId": "dbd14e65-0280-4dcd-965f-8f7160af6d2a"
      },
      "source": [
        "print(\"Banyaknya data yang di train untuk pelanggan yang stayed dengan balancing manual: {}\".format(sum(y_train_manual==1)))\n",
        "print(\"Banyaknya data yang di train untuk pelanggan yang churned dengan balancing manual: {} \\n\".format(sum(y_train_manual==0)))"
      ],
      "execution_count": null,
      "outputs": [
        {
          "output_type": "stream",
          "text": [
            "Banyaknya data yang di train untuk pelanggan yang stayed dengan balancing manual: 809\n",
            "Banyaknya data yang di train untuk pelanggan yang churned dengan balancing manual: 808 \n",
            "\n"
          ],
          "name": "stdout"
        }
      ]
    },
    {
      "cell_type": "markdown",
      "metadata": {
        "id": "xuPyYxBG6V1B"
      },
      "source": [
        "defining kfold"
      ]
    },
    {
      "cell_type": "code",
      "metadata": {
        "id": "aYrI-DKh5DS4"
      },
      "source": [
        "#mendefinisikan stratified kfold validation\n",
        "from sklearn.model_selection import StratifiedKFold\n",
        "kfold = StratifiedKFold(n_splits=10, shuffle=True)"
      ],
      "execution_count": null,
      "outputs": []
    },
    {
      "cell_type": "markdown",
      "metadata": {
        "id": "0PqpM3Qcz6Di"
      },
      "source": [
        "# Modeling"
      ]
    },
    {
      "cell_type": "markdown",
      "metadata": {
        "id": "gw7Ds0HEz6Di"
      },
      "source": [
        "**RF**"
      ]
    },
    {
      "cell_type": "code",
      "metadata": {
        "id": "g_0oUZREz6Dj",
        "colab": {
          "base_uri": "https://localhost:8080/",
          "height": 17
        },
        "outputId": "da89b2c2-86a1-46c0-fa5a-0ea25d6b7aeb"
      },
      "source": [
        "#PEMODELAN\n",
        "#Random forest\n",
        "#import library random forest\n",
        "import plotly\n",
        "plotly.offline.init_notebook_mode(connected=True)\n",
        "import plotly.offline as py\n",
        "from sklearn.metrics import precision_score, recall_score, confusion_matrix,  roc_curve, precision_recall_curve, accuracy_score, roc_auc_score\n",
        "import plotly.graph_objs as go\n",
        "import plotly.tools as tls\n",
        "from sklearn.metrics import confusion_matrix , classification_report\n",
        "from sklearn.ensemble import RandomForestClassifier"
      ],
      "execution_count": null,
      "outputs": [
        {
          "output_type": "display_data",
          "data": {
            "text/html": [
              "        <script type=\"text/javascript\">\n",
              "        window.PlotlyConfig = {MathJaxConfig: 'local'};\n",
              "        if (window.MathJax) {MathJax.Hub.Config({SVG: {font: \"STIX-Web\"}});}\n",
              "        if (typeof require !== 'undefined') {\n",
              "        require.undef(\"plotly\");\n",
              "        requirejs.config({\n",
              "            paths: {\n",
              "                'plotly': ['https://cdn.plot.ly/plotly-latest.min']\n",
              "            }\n",
              "        });\n",
              "        require(['plotly'], function(Plotly) {\n",
              "            window._Plotly = Plotly;\n",
              "        });\n",
              "        }\n",
              "        </script>\n",
              "        "
            ]
          },
          "metadata": {
            "tags": []
          }
        }
      ]
    },
    {
      "cell_type": "markdown",
      "metadata": {
        "id": "xXn832FRKW1q"
      },
      "source": [
        "Pemodelan awal (using undersampler dataset)"
      ]
    },
    {
      "cell_type": "code",
      "metadata": {
        "id": "FuhZIHXIEetn"
      },
      "source": [
        "#untuk metode splitting (3)\n",
        "rf3 = RandomForestClassifier(n_estimators=20,\n",
        "                              random_state=0)\n",
        "rf3.fit(X_train_manual, y_train_manual) \n",
        "score = rf3.score(X_train_manual, y_train_manual)\n",
        "score2 = rf3.score(X_test_manual, y_test_manual)\n",
        "print(\"Training set accuracy: \", '%.3f'%(score))\n",
        "print(\"Test set accuracy: \", '%.3f'%(score2))"
      ],
      "execution_count": null,
      "outputs": []
    },
    {
      "cell_type": "code",
      "metadata": {
        "id": "JEJfL4olEirw"
      },
      "source": [
        "y_pred_manual = rf3.predict(X_test_manual)\n",
        "print(confusion_matrix(y_test_manual,y_pred_manual))\n",
        "print(classification_report(y_test_manual,y_pred_manual))\n",
        "print(accuracy_score(y_test_manual, y_pred_manual))"
      ],
      "execution_count": null,
      "outputs": []
    },
    {
      "cell_type": "markdown",
      "metadata": {
        "id": "folq07-VLjqF"
      },
      "source": [
        "measuring hyperparameter tuning (grid  search)"
      ]
    },
    {
      "cell_type": "code",
      "metadata": {
        "id": "7DyMcw43xdDN"
      },
      "source": [
        "from sklearn.datasets import make_classification\n",
        "from sklearn.metrics import accuracy_score, f1_score, precision_score, recall_score, classification_report, confusion_matrix"
      ],
      "execution_count": null,
      "outputs": []
    },
    {
      "cell_type": "code",
      "metadata": {
        "id": "aQWIgwjIxpbO"
      },
      "source": [
        "from sklearn.model_selection import GridSearchCV"
      ],
      "execution_count": null,
      "outputs": []
    },
    {
      "cell_type": "code",
      "metadata": {
        "colab": {
          "base_uri": "https://localhost:8080/"
        },
        "id": "Zi0yRYlyqOsz",
        "outputId": "f53f1341-0451-4c68-f639-a8f68e841496"
      },
      "source": [
        "# Hyperparameter tuning, (rf3 is the changing var)\n",
        "from sklearn.metrics import make_scorer\n",
        "scoring = {'acc': make_scorer(accuracy_score), 'prec': make_scorer(precision_score), 'recall': make_scorer(recall_score), 'f1': make_scorer(f1_score), 'roc': make_scorer(roc_auc_score)}\n",
        "estimators = [i for i in range(5,101,10)]\n",
        "depth = [i for i in range(10, 21, 2)]\n",
        "samples = [i for i in range(1, 11, 1)]\n",
        "parameter = dict(max_depth=depth, n_estimators=estimators, min_samples_leaf=samples)\n",
        "\n",
        "rf_model = rf3.fit(X_train_manual, y_train_manual)\n",
        "param_search_rf = GridSearchCV(rf_model, parameter, scoring=scoring, refit='roc')\n",
        "param_search_rf.fit(X_test_manual, y_test_manual)\n",
        "param_search_rf.best_params_"
      ],
      "execution_count": null,
      "outputs": [
        {
          "output_type": "execute_result",
          "data": {
            "text/plain": [
              "{'max_depth': 10, 'min_samples_leaf': 1, 'n_estimators': 85}"
            ]
          },
          "metadata": {
            "tags": []
          },
          "execution_count": 98
        }
      ]
    },
    {
      "cell_type": "markdown",
      "metadata": {
        "id": "ExmzHg_vLyWP"
      },
      "source": [
        "imputasi output dari hyperparameter tuning"
      ]
    },
    {
      "cell_type": "code",
      "metadata": {
        "id": "EgckJBUd-mRF",
        "colab": {
          "base_uri": "https://localhost:8080/"
        },
        "outputId": "ca76f1d4-795f-40c3-8399-3da06196eef2"
      },
      "source": [
        "#untuk metode splitting (1)\n",
        "rfoptz = RandomForestClassifier(n_estimators=55,\n",
        "                                max_depth=20,\n",
        "                                min_samples_leaf=1,\n",
        "                              random_state=0)\n",
        "rfoptz.fit(X_train, y_train) \n",
        "score = rfoptz.score(X_train, y_train)\n",
        "score2 = rfoptz.score(X_test, y_test)\n",
        "print(\"Training set accuracy: \", '%.3f'%(score))\n",
        "print(\"Test set accuracy: \", '%.3f'%(score2))"
      ],
      "execution_count": null,
      "outputs": [
        {
          "output_type": "stream",
          "text": [
            "Training set accuracy:  0.963\n",
            "Test set accuracy:  0.796\n"
          ],
          "name": "stdout"
        }
      ]
    },
    {
      "cell_type": "code",
      "metadata": {
        "colab": {
          "base_uri": "https://localhost:8080/"
        },
        "id": "4-SxmU64-_Dq",
        "outputId": "b10edcb7-e93f-4659-a59e-890ffa1c15e5"
      },
      "source": [
        "y_pred = rfoptz.predict(X_test)\n",
        "print(confusion_matrix(y_test,y_pred))\n",
        "print(classification_report(y_test,y_pred))\n",
        "print(accuracy_score(y_test, y_pred))"
      ],
      "execution_count": null,
      "outputs": [
        {
          "output_type": "stream",
          "text": [
            "[[726  33]\n",
            " [163  39]]\n",
            "              precision    recall  f1-score   support\n",
            "\n",
            "           0       0.82      0.96      0.88       759\n",
            "           1       0.54      0.19      0.28       202\n",
            "\n",
            "    accuracy                           0.80       961\n",
            "   macro avg       0.68      0.57      0.58       961\n",
            "weighted avg       0.76      0.80      0.76       961\n",
            "\n",
            "0.7960457856399584\n"
          ],
          "name": "stdout"
        }
      ]
    },
    {
      "cell_type": "code",
      "metadata": {
        "colab": {
          "base_uri": "https://localhost:8080/"
        },
        "id": "FNlSHn60OQUd",
        "outputId": "e1d202d7-0fd6-4071-e322-26c333e25d41"
      },
      "source": [
        "#untuk metode splitting (2)\n",
        "rfoptz2 = RandomForestClassifier(n_estimators=95,\n",
        "                                max_depth=20,\n",
        "                                min_samples_leaf=1,\n",
        "                              random_state=0)\n",
        "rfoptz2.fit(X_train_smote, y_train_smote) \n",
        "score = rfoptz2.score(X_train_smote, y_train_smote)\n",
        "score2 = rfoptz2.score(X_test_smote, y_test_smote)\n",
        "print(\"Training set accuracy: \", '%.3f'%(score))\n",
        "print(\"Test set accuracy: \", '%.3f'%(score2))"
      ],
      "execution_count": null,
      "outputs": [
        {
          "output_type": "stream",
          "text": [
            "Training set accuracy:  0.993\n",
            "Test set accuracy:  0.732\n"
          ],
          "name": "stdout"
        }
      ]
    },
    {
      "cell_type": "code",
      "metadata": {
        "colab": {
          "base_uri": "https://localhost:8080/"
        },
        "id": "3h2wfifwOw8L",
        "outputId": "248445e3-7c2c-4fb8-e978-48a4bd008ec2"
      },
      "source": [
        "y_pred = rfoptz2.predict(X_test_smote)\n",
        "print(confusion_matrix(y_test_smote,y_pred))\n",
        "print(classification_report(y_test_smote,y_pred))\n",
        "print(accuracy_score(y_test_smote, y_pred))"
      ],
      "execution_count": null,
      "outputs": [
        {
          "output_type": "stream",
          "text": [
            "[[481 127]\n",
            " [147 461]]\n",
            "              precision    recall  f1-score   support\n",
            "\n",
            "           0       0.77      0.79      0.78       608\n",
            "           1       0.78      0.76      0.77       608\n",
            "\n",
            "    accuracy                           0.77      1216\n",
            "   macro avg       0.77      0.77      0.77      1216\n",
            "weighted avg       0.77      0.77      0.77      1216\n",
            "\n",
            "0.774671052631579\n"
          ],
          "name": "stdout"
        }
      ]
    },
    {
      "cell_type": "code",
      "metadata": {
        "colab": {
          "base_uri": "https://localhost:8080/"
        },
        "id": "wjUQ0tZAD1Kv",
        "outputId": "ca5f3aae-1f26-40dc-c612-004374fd71f7"
      },
      "source": [
        "#untuk metode splitting (3)\n",
        "rfoptz3c = RandomForestClassifier(n_estimators=28,\n",
        "                                min_samples_leaf=1,\n",
        "                              random_state=0)\n",
        "rfoptz3c.fit(X_train_manual, y_train_manual) \n",
        "score = rfoptz3c.score(X_train_manual, y_train_manual)\n",
        "score2 = rfoptz3c.score(X_test_manual, y_test_manual)\n",
        "print(\"Training set accuracy: \", '%.3f'%(score))\n",
        "print(\"Test set accuracy: \", '%.3f'%(score2))"
      ],
      "execution_count": null,
      "outputs": [
        {
          "output_type": "stream",
          "text": [
            "Training set accuracy:  0.999\n",
            "Test set accuracy:  0.970\n"
          ],
          "name": "stdout"
        }
      ]
    },
    {
      "cell_type": "code",
      "metadata": {
        "colab": {
          "base_uri": "https://localhost:8080/"
        },
        "id": "ez6aQrBG2hJ1",
        "outputId": "ab180f92-3ad6-487c-9c0c-97471da1f7f2"
      },
      "source": [
        "y_pred_manual = rfoptz3c.predict(X_test_manual)\n",
        "print(confusion_matrix(y_test_manual,y_pred_manual))\n",
        "print(classification_report(y_test_manual,y_pred_manual))\n",
        "print(accuracy_score(y_test_manual, y_pred_manual))"
      ],
      "execution_count": null,
      "outputs": [
        {
          "output_type": "stream",
          "text": [
            "[[202   1]\n",
            " [ 11 191]]\n",
            "              precision    recall  f1-score   support\n",
            "\n",
            "           0       0.95      1.00      0.97       203\n",
            "           1       0.99      0.95      0.97       202\n",
            "\n",
            "    accuracy                           0.97       405\n",
            "   macro avg       0.97      0.97      0.97       405\n",
            "weighted avg       0.97      0.97      0.97       405\n",
            "\n",
            "0.9703703703703703\n"
          ],
          "name": "stdout"
        }
      ]
    },
    {
      "cell_type": "code",
      "metadata": {
        "colab": {
          "base_uri": "https://localhost:8080/"
        },
        "id": "BWNOGgm-SINj",
        "outputId": "cd2b8669-2acc-4f84-e227-36b0acd3e75b"
      },
      "source": [
        "#untuk metode splitting (3)\n",
        "rfoptz3 = RandomForestClassifier(n_estimators=85,\n",
        "                                max_depth=10,\n",
        "                                min_samples_leaf=1,\n",
        "                              random_state=0)\n",
        "rfoptz3.fit(X_train_manual, y_train_manual) \n",
        "score = rfoptz3.score(X_train_manual, y_train_manual)\n",
        "score2 = rfoptz3.score(X_test_manual, y_test_manual)\n",
        "print(\"Training set accuracy: \", '%.3f'%(score))\n",
        "print(\"Test set accuracy: \", '%.3f'%(score2))"
      ],
      "execution_count": null,
      "outputs": [
        {
          "output_type": "stream",
          "text": [
            "Training set accuracy:  0.972\n",
            "Test set accuracy:  0.973\n"
          ],
          "name": "stdout"
        }
      ]
    },
    {
      "cell_type": "code",
      "metadata": {
        "colab": {
          "base_uri": "https://localhost:8080/"
        },
        "id": "Phfh43PaSoOz",
        "outputId": "efef1f95-68c8-4194-f083-507a7071ef66"
      },
      "source": [
        "y_pred_manual = rfoptz3.predict(X_test_manual)\n",
        "print(confusion_matrix(y_test_manual,y_pred_manual))\n",
        "print(classification_report(y_test_manual,y_pred_manual))\n",
        "print(accuracy_score(y_test_manual, y_pred_manual))"
      ],
      "execution_count": null,
      "outputs": [
        {
          "output_type": "stream",
          "text": [
            "[[203   0]\n",
            " [ 11 191]]\n",
            "              precision    recall  f1-score   support\n",
            "\n",
            "           0       0.95      1.00      0.97       203\n",
            "           1       1.00      0.95      0.97       202\n",
            "\n",
            "    accuracy                           0.97       405\n",
            "   macro avg       0.97      0.97      0.97       405\n",
            "weighted avg       0.97      0.97      0.97       405\n",
            "\n",
            "0.9728395061728395\n"
          ],
          "name": "stdout"
        }
      ]
    },
    {
      "cell_type": "code",
      "metadata": {
        "id": "WmnJpWJHz6Dl",
        "colab": {
          "base_uri": "https://localhost:8080/",
          "height": 452
        },
        "outputId": "37e91532-27f9-466d-a5e0-3c63bb0c672a"
      },
      "source": [
        "#measuring feature importance\n",
        "fi = pd.DataFrame({'feature': list(X_train.columns),\n",
        "                   'importance': rf.feature_importances_}).\\\n",
        "                    sort_values('importance', ascending = False)\n",
        "fi"
      ],
      "execution_count": null,
      "outputs": [
        {
          "output_type": "execute_result",
          "data": {
            "text/html": [
              "<div>\n",
              "<style scoped>\n",
              "    .dataframe tbody tr th:only-of-type {\n",
              "        vertical-align: middle;\n",
              "    }\n",
              "\n",
              "    .dataframe tbody tr th {\n",
              "        vertical-align: top;\n",
              "    }\n",
              "\n",
              "    .dataframe thead th {\n",
              "        text-align: right;\n",
              "    }\n",
              "</style>\n",
              "<table border=\"1\" class=\"dataframe\">\n",
              "  <thead>\n",
              "    <tr style=\"text-align: right;\">\n",
              "      <th></th>\n",
              "      <th>feature</th>\n",
              "      <th>importance</th>\n",
              "    </tr>\n",
              "  </thead>\n",
              "  <tbody>\n",
              "    <tr>\n",
              "      <th>11</th>\n",
              "      <td>final_score</td>\n",
              "      <td>0.277975</td>\n",
              "    </tr>\n",
              "    <tr>\n",
              "      <th>0</th>\n",
              "      <td>id_user</td>\n",
              "      <td>0.276075</td>\n",
              "    </tr>\n",
              "    <tr>\n",
              "      <th>1</th>\n",
              "      <td>duration</td>\n",
              "      <td>0.270710</td>\n",
              "    </tr>\n",
              "    <tr>\n",
              "      <th>12</th>\n",
              "      <td>province_encoded</td>\n",
              "      <td>0.091353</td>\n",
              "    </tr>\n",
              "    <tr>\n",
              "      <th>4</th>\n",
              "      <td>seeing_solution</td>\n",
              "      <td>0.031189</td>\n",
              "    </tr>\n",
              "    <tr>\n",
              "      <th>3</th>\n",
              "      <td>seeing_result</td>\n",
              "      <td>0.021240</td>\n",
              "    </tr>\n",
              "    <tr>\n",
              "      <th>2</th>\n",
              "      <td>finished_to</td>\n",
              "      <td>0.007154</td>\n",
              "    </tr>\n",
              "    <tr>\n",
              "      <th>7</th>\n",
              "      <td>responsive_to</td>\n",
              "      <td>0.006571</td>\n",
              "    </tr>\n",
              "    <tr>\n",
              "      <th>5</th>\n",
              "      <td>fill_feedback</td>\n",
              "      <td>0.005537</td>\n",
              "    </tr>\n",
              "    <tr>\n",
              "      <th>6</th>\n",
              "      <td>reliability_to</td>\n",
              "      <td>0.005063</td>\n",
              "    </tr>\n",
              "    <tr>\n",
              "      <th>9</th>\n",
              "      <td>emphaty_to</td>\n",
              "      <td>0.003728</td>\n",
              "    </tr>\n",
              "    <tr>\n",
              "      <th>8</th>\n",
              "      <td>tangibles_to</td>\n",
              "      <td>0.002350</td>\n",
              "    </tr>\n",
              "    <tr>\n",
              "      <th>10</th>\n",
              "      <td>assurance_to</td>\n",
              "      <td>0.001056</td>\n",
              "    </tr>\n",
              "  </tbody>\n",
              "</table>\n",
              "</div>"
            ],
            "text/plain": [
              "             feature  importance\n",
              "11       final_score    0.277975\n",
              "0            id_user    0.276075\n",
              "1           duration    0.270710\n",
              "12  province_encoded    0.091353\n",
              "4    seeing_solution    0.031189\n",
              "3      seeing_result    0.021240\n",
              "2        finished_to    0.007154\n",
              "7      responsive_to    0.006571\n",
              "5      fill_feedback    0.005537\n",
              "6     reliability_to    0.005063\n",
              "9         emphaty_to    0.003728\n",
              "8       tangibles_to    0.002350\n",
              "10      assurance_to    0.001056"
            ]
          },
          "metadata": {
            "tags": []
          },
          "execution_count": 70
        }
      ]
    },
    {
      "cell_type": "markdown",
      "metadata": {
        "id": "eVjo97PRMRKw"
      },
      "source": [
        "validasi dengan Stratified KFold"
      ]
    },
    {
      "cell_type": "code",
      "metadata": {
        "colab": {
          "base_uri": "https://localhost:8080/"
        },
        "id": "WxaacPjf6eRl",
        "outputId": "5299b1f8-6799-4f00-ca1c-5b30cf6788bc"
      },
      "source": [
        "#untuk metode splitting (3)\n",
        "from sklearn.model_selection import cross_val_score\n",
        "score = cross_val_score(rfoptz3, X1, y1, scoring='accuracy',cv=kfold, n_jobs=-1)\n",
        "score"
      ],
      "execution_count": null,
      "outputs": [
        {
          "output_type": "execute_result",
          "data": {
            "text/plain": [
              "array([0.97044335, 0.96059113, 0.97524752, 0.95049505, 0.97524752,\n",
              "       0.95544554, 0.95544554, 0.95544554, 0.97524752, 0.97524752])"
            ]
          },
          "metadata": {
            "tags": []
          },
          "execution_count": 50
        }
      ]
    },
    {
      "cell_type": "code",
      "metadata": {
        "colab": {
          "base_uri": "https://localhost:8080/"
        },
        "id": "yxTb_3c46mG9",
        "outputId": "654cdca6-7a80-4470-d3dd-7ffb32946f11"
      },
      "source": [
        "score.mean()"
      ],
      "execution_count": null,
      "outputs": [
        {
          "output_type": "execute_result",
          "data": {
            "text/plain": [
              "0.9648856264936839"
            ]
          },
          "metadata": {
            "tags": []
          },
          "execution_count": 51
        }
      ]
    },
    {
      "cell_type": "markdown",
      "metadata": {
        "id": "9uVyVtvl6pFC"
      },
      "source": [
        "--------"
      ]
    }
  ]
}